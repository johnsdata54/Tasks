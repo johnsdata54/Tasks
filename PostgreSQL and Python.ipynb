{
 "cells": [
  {
   "cell_type": "markdown",
   "id": "6d42b3ea",
   "metadata": {},
   "source": [
    "## Step 1: Import sqlalchemy"
   ]
  },
  {
   "cell_type": "code",
   "execution_count": 5,
   "id": "fb835bce",
   "metadata": {},
   "outputs": [],
   "source": [
    "'''When working in Jupyter Notebook, \n",
    "you must create an sql engine with\n",
    "SQLAlchemy to communicte with psycog2. Other wise\n",
    "if this being created in a regular python file,\n",
    "you can just import the psycog2 by itself'''\n",
    "\n",
    "import sqlalchemy"
   ]
  },
  {
   "cell_type": "code",
   "execution_count": null,
   "id": "eb56de1e",
   "metadata": {},
   "outputs": [],
   "source": [
    "engine = sqlalchemy.create_engine()"
   ]
  }
 ],
 "metadata": {
  "kernelspec": {
   "display_name": "Python 3 (ipykernel)",
   "language": "python",
   "name": "python3"
  },
  "language_info": {
   "codemirror_mode": {
    "name": "ipython",
    "version": 3
   },
   "file_extension": ".py",
   "mimetype": "text/x-python",
   "name": "python",
   "nbconvert_exporter": "python",
   "pygments_lexer": "ipython3",
   "version": "3.9.7"
  }
 },
 "nbformat": 4,
 "nbformat_minor": 5
}
