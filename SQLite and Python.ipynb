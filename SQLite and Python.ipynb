{
 "cells": [
  {
   "cell_type": "markdown",
   "id": "58e2936f",
   "metadata": {},
   "source": [
    "### Importing sqlite"
   ]
  },
  {
   "cell_type": "code",
   "execution_count": 2,
   "id": "c7875832",
   "metadata": {},
   "outputs": [],
   "source": [
    "import sqlite3"
   ]
  },
  {
   "cell_type": "markdown",
   "id": "d53ecf84",
   "metadata": {},
   "source": [
    "### Making connection object "
   ]
  },
  {
   "cell_type": "code",
   "execution_count": 29,
   "id": "83118f24",
   "metadata": {},
   "outputs": [],
   "source": [
    "conn = sqlite3.connect('test.db')"
   ]
  },
  {
   "cell_type": "markdown",
   "id": "e462d084",
   "metadata": {},
   "source": [
    "### Making cursor object to navigate through database"
   ]
  },
  {
   "cell_type": "code",
   "execution_count": 30,
   "id": "e9a08ff3",
   "metadata": {},
   "outputs": [],
   "source": [
    "cur = conn.cursor()"
   ]
  },
  {
   "cell_type": "markdown",
   "id": "f2a9a151",
   "metadata": {},
   "source": [
    "### Creating table to be placed into database"
   ]
  },
  {
   "cell_type": "code",
   "execution_count": 6,
   "id": "369a4aeb",
   "metadata": {},
   "outputs": [
    {
     "data": {
      "text/plain": [
       "<sqlite3.Cursor at 0x7fae21046730>"
      ]
     },
     "execution_count": 6,
     "metadata": {},
     "output_type": "execute_result"
    }
   ],
   "source": [
    "cur.execute(\"\"\"CREATE TABLE shoes (\n",
    "           id INT,\n",
    "           name VARCHAR(255),\n",
    "           brand VARCHAR(255),\n",
    "           max_available INT);\n",
    "           \"\"\")"
   ]
  },
  {
   "cell_type": "markdown",
   "id": "45c7b8d7",
   "metadata": {},
   "source": [
    "### Inserting data values into the table"
   ]
  },
  {
   "cell_type": "code",
   "execution_count": 13,
   "id": "939f634f",
   "metadata": {},
   "outputs": [
    {
     "data": {
      "text/plain": [
       "<sqlite3.Cursor at 0x7fae21046730>"
      ]
     },
     "execution_count": 13,
     "metadata": {},
     "output_type": "execute_result"
    }
   ],
   "source": [
    "cur.execute(\"\"\"INSERT INTO shoes VALUES \n",
    "            (1, 'Air Jordan 1 - Banned', 'Jordan', 17),\n",
    "             (2, 'Air Jordan 4 - Miltary Blue', 'Jordan', 13),\n",
    "             (3, 'Samba - Rasta', 'Adidas', 14);\n",
    "            \"\"\")"
   ]
  },
  {
   "cell_type": "markdown",
   "id": "58a6dc59",
   "metadata": {},
   "source": [
    "### Running a test query to check if data can retrieved"
   ]
  },
  {
   "cell_type": "code",
   "execution_count": 60,
   "id": "540c72b6",
   "metadata": {
    "scrolled": true
   },
   "outputs": [
    {
     "name": "stdout",
     "output_type": "stream",
     "text": [
      "(1, 'Air Jordan 1 - Banned', 'Jordan', 17)\n",
      "(3, 'Samba - Rasta', 'Adidas', 14)\n",
      "(5, 'Adidas Ultraboost 21 - Solar Red', 'Adidas', 14)\n",
      "(9, 'Dunk Low', 'Nike', 15)\n",
      "(10, 'Air Force 1 Low - White/White', 'Nike', 15)\n",
      "(11, 'Air Force 1 Low - White/White', 'Nike', 15)\n",
      "(5, 'Adidas Ultraboost 21 - Solar Red', 'Adidas', 14)\n",
      "(9, 'Dunk Low', 'Nike', 15)\n",
      "(10, 'Air Force 1 Low - White/White', 'Nike', 15)\n",
      "(11, 'Air Force 1 Low - White/White', 'Nike', 15)\n"
     ]
    }
   ],
   "source": [
    "query = cur.execute(\"\"\"SELECT * FROM shoes \n",
    "                        WHERE max_available \n",
    "                        BETWEEN 14 and 18;\"\"\")\n",
    "\n",
    "\n",
    "for row in query:\n",
    "    print (row)"
   ]
  },
  {
   "cell_type": "markdown",
   "id": "bbd4f00e",
   "metadata": {},
   "source": [
    "### Inserting additional values into 'shoes' table"
   ]
  },
  {
   "cell_type": "code",
   "execution_count": 34,
   "id": "4ebbf94a",
   "metadata": {},
   "outputs": [
    {
     "data": {
      "text/plain": [
       "<sqlite3.Cursor at 0x7fadf061e500>"
      ]
     },
     "execution_count": 34,
     "metadata": {},
     "output_type": "execute_result"
    }
   ],
   "source": [
    "cur.execute(\"\"\"INSERT INTO shoes VALUES\n",
    "                    (4, 'Air Jordan 6 - Infrared', 'Jordan', 11),\n",
    "                    (5, 'Adidas Ultraboost 21 - Solar Red', 'Adidas', 14),\n",
    "                    (6, 'Air Max 97 - Silver Bullet', 'Nike', 24),\n",
    "                    (7, 'Air Jordan 4 - Fire Red', 'Jordan', 13),\n",
    "                    (8, 'Yeezy Boost 350 V2 - Zebra', 'Adidas', 12),\n",
    "                    (9, 'Dunk Low', 'Nike', 15),\n",
    "                    (10, 'Air Force 1 Low - White/White', 'Nike', 15),\n",
    "                    (11, 'Air Force 1 Low - White/White', 'Nike', 15)\n",
    "                    ;\n",
    "                    \"\"\")"
   ]
  },
  {
   "cell_type": "markdown",
   "id": "4492696a",
   "metadata": {},
   "source": [
    "### Seeing all values in 'shoes' table"
   ]
  },
  {
   "cell_type": "code",
   "execution_count": 36,
   "id": "98ec9266",
   "metadata": {},
   "outputs": [
    {
     "name": "stdout",
     "output_type": "stream",
     "text": [
      "(1, 'Air Jordan 1 - Banned', 'Jordan', 17)\n",
      "(2, 'Air Jordan 4 - Miltary Blue', 'Jordan', 13)\n",
      "(3, 'Samba - Rasta', 'Adidas', 14)\n",
      "(4, 'Air Jordan 6 - Infrared', 'Jordan', 11)\n",
      "(5, 'Adidas Ultraboost 21 - Solar Red', 'Adidas', 14)\n",
      "(6, 'Air Max 97 - Silver Bullet', 'Nike', 24)\n",
      "(7, 'Air Jordan 4 - Fire Red', 'Jordan', 13)\n",
      "(8, 'Yeezy Boost 350 V2 - Zebra', 'Adidas', 12)\n",
      "(9, 'Dunk Low', 'Nike', 15)\n",
      "(10, 'Air Force 1 Low - White/White', 'Nike', 15)\n",
      "(11, 'Air Force 1 Low - White/White', 'Nike', 15)\n"
     ]
    }
   ],
   "source": [
    "query = cur.execute(\"\"\"SELECT DISTINCT * FROM shoes;\"\"\")\n",
    "\n",
    "for row in query:\n",
    "    print (row)"
   ]
  },
  {
   "cell_type": "markdown",
   "id": "563e1032",
   "metadata": {},
   "source": [
    "### Creating 'shoes_2' table"
   ]
  },
  {
   "cell_type": "code",
   "execution_count": 37,
   "id": "5b70f81a",
   "metadata": {},
   "outputs": [
    {
     "data": {
      "text/plain": [
       "<sqlite3.Cursor at 0x7fadf061e500>"
      ]
     },
     "execution_count": 37,
     "metadata": {},
     "output_type": "execute_result"
    }
   ],
   "source": [
    "cur.execute(\"\"\"CREATE TABLE shoes_2 (\n",
    "        id INT,\n",
    "        name VARCHAR(255),\n",
    "        brand VARCHAR(255),\n",
    "        max_available INT);\n",
    "        \"\"\")"
   ]
  },
  {
   "cell_type": "markdown",
   "id": "56aaf194",
   "metadata": {},
   "source": [
    "### Inserting additional values into 'shoes_2' table"
   ]
  },
  {
   "cell_type": "code",
   "execution_count": 38,
   "id": "bb086af4",
   "metadata": {},
   "outputs": [
    {
     "data": {
      "text/plain": [
       "<sqlite3.Cursor at 0x7fadf061e500>"
      ]
     },
     "execution_count": 38,
     "metadata": {},
     "output_type": "execute_result"
    }
   ],
   "source": [
    "cur.execute(\"\"\"INSERT INTO shoes_2 VALUES\n",
    "                    (1, 'Air Jordan 1 - Banned', 'Jordan', 16),\n",
    "                    (2, 'Air Jordan 4 - Motorsport', 'Jordan', 11),\n",
    "                    (3, 'Samba - White', 'Adidas', 14),\n",
    "                    (4, 'Air Jordan 6 - Powder Blue', 'Jordan', 10),\n",
    "                    (5, 'Adidas Ultraboost 21 - Solar Red', 'Adidas', 9),\n",
    "                    (6, 'Air Max 97 - Silver Bullet', 'Nike', 24),\n",
    "                    (7, 'Air Jordan 4 - Fire Red', 'Jordan', 13),\n",
    "                    (8, 'Yeezy Boost 350 V2 - Oreo', 'Adidas', 12),\n",
    "                    (9, 'Dunk Low', 'Nike', 15),\n",
    "                    (10, 'Air Force 1 Low - Black', 'Nike', 15);\n",
    "                    \"\"\")"
   ]
  },
  {
   "cell_type": "markdown",
   "id": "9584c067",
   "metadata": {},
   "source": [
    "### Joining 'shoes' table with 'shoes_2' table to see values that match"
   ]
  },
  {
   "cell_type": "code",
   "execution_count": 44,
   "id": "7c8bc75f",
   "metadata": {},
   "outputs": [
    {
     "name": "stdout",
     "output_type": "stream",
     "text": [
      "('Air Jordan 1 - Banned',)\n",
      "('Air Max 97 - Silver Bullet',)\n",
      "('Air Jordan 4 - Fire Red',)\n"
     ]
    }
   ],
   "source": [
    "query = cur.execute(\"\"\"SELECT DISTINCT s1.name \n",
    "                        FROM shoes as s1\n",
    "                        INNER JOIN shoes_2 as s2\n",
    "                        ON s1.name = s2.name\n",
    "                        WHERE s1.name LIKE 'Air%';\n",
    "                        \"\"\")\n",
    "\n",
    "for row in query:\n",
    "    print(row)"
   ]
  },
  {
   "cell_type": "markdown",
   "id": "20df3137",
   "metadata": {},
   "source": [
    "### Querying 'shoes' table to see what shoe names contains the word 'Air'"
   ]
  },
  {
   "cell_type": "code",
   "execution_count": 51,
   "id": "5e8a44bc",
   "metadata": {},
   "outputs": [
    {
     "name": "stdout",
     "output_type": "stream",
     "text": [
      "There are 12 rows with the word \"Air\".\n",
      "(12,)\n"
     ]
    }
   ],
   "source": [
    "query = cur.execute(\"\"\"SELECT COUNT(name) \n",
    "                        FROM shoes \n",
    "                        WHERE name \n",
    "                        LIKE 'Air%';\n",
    "                        \"\"\")\n",
    "\n",
    "for row in query:\n",
    "    if 12 in row:\n",
    "        print('There are 12 rows with the word \\\"Air\\\".')\n",
    "    print(row)"
   ]
  },
  {
   "cell_type": "markdown",
   "id": "d0214bcf",
   "metadata": {},
   "source": [
    "### Using conditional statements based on the total rows in the 'shoes_2' table "
   ]
  },
  {
   "cell_type": "code",
   "execution_count": 57,
   "id": "a581f34e",
   "metadata": {},
   "outputs": [
    {
     "name": "stdout",
     "output_type": "stream",
     "text": [
      "The amount of rows is below 11\n"
     ]
    }
   ],
   "source": [
    "query = cur.execute(\"\"\"SELECT\n",
    "                            CASE \n",
    "                                WHEN COUNT(name) < 11 THEN 'The amount of rows is below 11'\n",
    "                                WHEN COUNT(name) >= 11 THEN 'The amount of rows is at or above 11'\n",
    "                            END AS result\n",
    "                            FROM shoes_2;\n",
    "                        \"\"\")\n",
    "for row in query:\n",
    "    print(row[0])"
   ]
  },
  {
   "cell_type": "markdown",
   "id": "7341357f",
   "metadata": {},
   "source": [
    "### Inserting new data to change conditional output"
   ]
  },
  {
   "cell_type": "code",
   "execution_count": 58,
   "id": "a5d50b34",
   "metadata": {},
   "outputs": [
    {
     "data": {
      "text/plain": [
       "<sqlite3.Cursor at 0x7fadf061e500>"
      ]
     },
     "execution_count": 58,
     "metadata": {},
     "output_type": "execute_result"
    }
   ],
   "source": [
    "cur.execute(\"\"\"INSERT INTO shoes_2 VALUES\n",
    "                    (11, 'Air Jordan 1 - Royal Blue', 'Jordan', 16);\n",
    "                    \"\"\")"
   ]
  },
  {
   "cell_type": "markdown",
   "id": "b672c38c",
   "metadata": {},
   "source": [
    "### Using conditional statements based on the total rows in the table "
   ]
  },
  {
   "cell_type": "code",
   "execution_count": 59,
   "id": "964f9d64",
   "metadata": {},
   "outputs": [
    {
     "name": "stdout",
     "output_type": "stream",
     "text": [
      "The amount of rows is at or above 11\n"
     ]
    }
   ],
   "source": [
    "query = cur.execute(\"\"\"SELECT\n",
    "                            CASE \n",
    "                                WHEN COUNT(name) < 11 THEN 'The amount of rows is below 11'\n",
    "                                WHEN COUNT(name) >= 11 THEN 'The amount of rows is at or above 11'\n",
    "                            END AS result\n",
    "                            FROM shoes_2;\n",
    "                        \"\"\")\n",
    "for row in query:\n",
    "    print(row[0])"
   ]
  },
  {
   "cell_type": "markdown",
   "id": "2da52a65",
   "metadata": {},
   "source": [
    "### Commiting changes to database"
   ]
  },
  {
   "cell_type": "code",
   "execution_count": 61,
   "id": "6817012d",
   "metadata": {},
   "outputs": [],
   "source": [
    "conn.commit()"
   ]
  },
  {
   "cell_type": "markdown",
   "id": "6e0c5310",
   "metadata": {},
   "source": [
    "### Closing the connection to the database"
   ]
  },
  {
   "cell_type": "code",
   "execution_count": 62,
   "id": "c929ef49",
   "metadata": {},
   "outputs": [],
   "source": [
    "conn.close()"
   ]
  }
 ],
 "metadata": {
  "kernelspec": {
   "display_name": "Python 3 (ipykernel)",
   "language": "python",
   "name": "python3"
  },
  "language_info": {
   "codemirror_mode": {
    "name": "ipython",
    "version": 3
   },
   "file_extension": ".py",
   "mimetype": "text/x-python",
   "name": "python",
   "nbconvert_exporter": "python",
   "pygments_lexer": "ipython3",
   "version": "3.9.7"
  }
 },
 "nbformat": 4,
 "nbformat_minor": 5
}
